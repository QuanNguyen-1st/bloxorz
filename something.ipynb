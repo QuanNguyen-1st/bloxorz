{
 "cells": [
  {
   "cell_type": "code",
   "execution_count": 2,
   "metadata": {},
   "outputs": [],
   "source": [
    "import os\n",
    "import pandas as pd\n",
    "import subprocess\n",
    "import time"
   ]
  },
  {
   "cell_type": "code",
   "execution_count": 3,
   "metadata": {},
   "outputs": [],
   "source": [
    "algorithm = \"bfs\"\n",
    "levels = []\n",
    "time = []\n",
    "memory = []\n",
    "steps = []\n",
    "virtual_steps = []"
   ]
  },
  {
   "cell_type": "code",
   "execution_count": 4,
   "metadata": {},
   "outputs": [],
   "source": [
    "for i in range (1, 34):\n",
    "    level = str(i)\n",
    "    if len(level) < 2:\n",
    "        level = \"0\" + level\n",
    "    # cmd = string + \" \" + level + \" \" + algorithm\n",
    "    x = subprocess.check_output(['python', 'testrun.py', level, algorithm])\n",
    "    holder ,time_run, memory_run, steps_run, virtual_steps_run = x.decode().split(' ')\n",
    "    # print(float(time_run))\n",
    "    # print(float(memory_run))\n",
    "    time.append(float(time_run))\n",
    "    memory.append(float(memory_run))\n",
    "    steps.append(int(steps_run))\n",
    "    virtual_steps.append(int(virtual_steps_run))"
   ]
  },
  {
   "cell_type": "code",
   "execution_count": 8,
   "metadata": {},
   "outputs": [
    {
     "name": "stdout",
     "output_type": "stream",
     "text": [
      "33\n"
     ]
    }
   ],
   "source": [
    "print(len(levels))"
   ]
  }
 ],
 "metadata": {
  "kernelspec": {
   "display_name": "Python 3",
   "language": "python",
   "name": "python3"
  },
  "language_info": {
   "codemirror_mode": {
    "name": "ipython",
    "version": 3
   },
   "file_extension": ".py",
   "mimetype": "text/x-python",
   "name": "python",
   "nbconvert_exporter": "python",
   "pygments_lexer": "ipython3",
   "version": "3.11.0"
  },
  "orig_nbformat": 4
 },
 "nbformat": 4,
 "nbformat_minor": 2
}
